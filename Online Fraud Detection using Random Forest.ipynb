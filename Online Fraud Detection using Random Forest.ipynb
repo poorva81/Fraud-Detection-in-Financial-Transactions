{
 "cells": [
  {
   "cell_type": "markdown",
   "id": "3da036cf",
   "metadata": {
    "papermill": {
     "duration": 0.048879,
     "end_time": "2021-12-20T06:20:38.838667",
     "exception": false,
     "start_time": "2021-12-20T06:20:38.789788",
     "status": "completed"
    },
    "tags": []
   },
   "source": [
    "# Synthetic Financial Datasets For Fraud Detection\n"
   ]
  },
  {
   "cell_type": "markdown",
   "id": "43df9345",
   "metadata": {
    "papermill": {
     "duration": 0.048336,
     "end_time": "2021-12-20T06:20:38.935956",
     "exception": false,
     "start_time": "2021-12-20T06:20:38.887620",
     "status": "completed"
    },
    "tags": []
   },
   "source": [
    "## Synthetic Financial Datasets : An Overview"
   ]
  },
  {
   "cell_type": "markdown",
   "id": "e1b8cb71",
   "metadata": {
    "papermill": {
     "duration": 0.048339,
     "end_time": "2021-12-20T06:20:39.035141",
     "exception": false,
     "start_time": "2021-12-20T06:20:38.986802",
     "status": "completed"
    },
    "tags": []
   },
   "source": [
    "Ever since the advent of internet the digital revolution has rising and has creeped into all aspects to our lives. One of the most important digital revolution happend in financial system and especially transacting money to someone from any part of the world digitally. Digital transactions have become a part of daily life like purchasing a product online, sending money to friends, depositing cash in bank account, investment purposes etc., They had a lot of benefits so does paved way for fradulent activities. People started using digital money transactions medium to launder money and make the money look like it comes from a legal source."
   ]
  },
  {
   "cell_type": "markdown",
   "id": "07a8484e",
   "metadata": {
    "papermill": {
     "duration": 0.049005,
     "end_time": "2021-12-20T06:20:39.133727",
     "exception": false,
     "start_time": "2021-12-20T06:20:39.084722",
     "status": "completed"
    },
    "tags": []
   },
   "source": [
    "## Problem statement\n"
   ]
  },
  {
   "cell_type": "markdown",
   "id": "954b3a2b",
   "metadata": {
    "papermill": {
     "duration": 0.047577,
     "end_time": "2021-12-20T06:20:39.229306",
     "exception": false,
     "start_time": "2021-12-20T06:20:39.181729",
     "status": "completed"
    },
    "tags": []
   },
   "source": [
    "The main technical challenge it poses to predicting fraud is the highly imbalanced distribution between positive and negative classes in 6 million rows of data. Another stumbling block to the utility of this data stems from the possible discrepancies in its description.\n",
    "\n"
   ]
  },
  {
   "cell_type": "markdown",
   "id": "5c7ca044",
   "metadata": {
    "papermill": {
     "duration": 0.047695,
     "end_time": "2021-12-20T06:20:39.324986",
     "exception": false,
     "start_time": "2021-12-20T06:20:39.277291",
     "status": "completed"
    },
    "tags": []
   },
   "source": [
    "## Headers\n"
   ]
  },
  {
   "cell_type": "markdown",
   "id": "e7474ace",
   "metadata": {
    "papermill": {
     "duration": 0.047996,
     "end_time": "2021-12-20T06:20:39.421014",
     "exception": false,
     "start_time": "2021-12-20T06:20:39.373018",
     "status": "completed"
    },
    "tags": []
   },
   "source": [
    "* **step** - maps a unit of time in the real world. In this case 1 step is 1 hour of time. Total steps 744 (30 days simulation).\n",
    "\n",
    "\n",
    "* **type** - CASH-IN, CASH-OUT, DEBIT, PAYMENT and TRANSFER.\n",
    "\n",
    "\n",
    "* **amount** - amount of the transaction in local currency.\n",
    "\n",
    "\n",
    "* **nameOrig** - customer who started the transaction\n",
    "\n",
    "\n",
    "* **oldbalanceOrg** - initial balance before the transaction\n",
    "\n",
    "\n",
    "* **newbalanceOrig** - new balance after the transaction\n",
    "\n",
    "\n",
    "* **nameDest** - customer who is the recipient of the transaction\n",
    "\n",
    "\n",
    "* **oldbalanceDest** - initial balance recipient before the transaction. Note that there is not information for customers that start with M (Merchants).\n",
    "\n",
    "\n",
    "* **newbalanceDest** - new balance recipient after the transaction. Note that there is not information for customers that start with M (Merchants).\n",
    "\n",
    "\n",
    "* **isFraud** - This is the transactions made by the fraudulent agents inside the simulation. In this specific dataset the fraudulent behavior of the agents aims to profit by taking control or customers accounts and try to empty the funds by transferring to another account and then cashing out of the system.\n",
    "\n",
    "\n",
    "* **isFlaggedFraud** - The business model aims to control massive transfers from one account to another and flags illegal attempts. An illegal attempt in this dataset is an attempt to transfer more than 200.000 in a single transaction.\n"
   ]
  },
  {
   "cell_type": "markdown",
   "id": "8e40586f",
   "metadata": {
    "papermill": {
     "duration": 0.047559,
     "end_time": "2021-12-20T06:20:39.516915",
     "exception": false,
     "start_time": "2021-12-20T06:20:39.469356",
     "status": "completed"
    },
    "tags": []
   },
   "source": [
    "## Goals\n"
   ]
  },
  {
   "cell_type": "markdown",
   "id": "a3993c10",
   "metadata": {
    "papermill": {
     "duration": 0.048294,
     "end_time": "2021-12-20T06:20:39.613695",
     "exception": false,
     "start_time": "2021-12-20T06:20:39.565401",
     "status": "completed"
    },
    "tags": []
   },
   "source": [
    "* Exploratory analysis of data to extract the pattern of fraudlent activites.\n",
    "\n",
    "* Build a machine learning model to classify fraud and non-fraud transactions.\n",
    "\n",
    "* Reduce the false negatives by tuning the model.\n"
   ]
  },
  {
   "cell_type": "code",
   "execution_count": 1,
   "id": "18d80833",
   "metadata": {
    "execution": {
     "iopub.execute_input": "2021-12-20T06:20:39.716176Z",
     "iopub.status.busy": "2021-12-20T06:20:39.714232Z",
     "iopub.status.idle": "2021-12-20T06:20:41.262361Z",
     "shell.execute_reply": "2021-12-20T06:20:41.261677Z",
     "shell.execute_reply.started": "2021-12-19T21:29:11.429845Z"
    },
    "papermill": {
     "duration": 1.600897,
     "end_time": "2021-12-20T06:20:41.262528",
     "exception": false,
     "start_time": "2021-12-20T06:20:39.661631",
     "status": "completed"
    },
    "tags": []
   },
   "outputs": [],
   "source": [
    "import pandas as pd\n",
    "import numpy as np\n",
    "import matplotlib.pyplot as plt\n",
    "import seaborn as sns\n",
    "from sklearn.model_selection import GridSearchCV,train_test_split\n",
    "from sklearn.ensemble import GradientBoostingClassifier\n",
    "from sklearn.tree import DecisionTreeClassifier\n",
    "from sklearn.metrics import f1_score,classification_report,roc_auc_score,precision_score,recall_score,confusion_matrix\n",
    "from sklearn.linear_model import LogisticRegression\n",
    "from sklearn.preprocessing import StandardScaler\n",
    "from sklearn.ensemble import RandomForestClassifier\n",
    "\n",
    "import warnings\n",
    "warnings.filterwarnings('ignore')"
   ]
  },
  {
   "cell_type": "markdown",
   "id": "18f6425c",
   "metadata": {
    "papermill": {
     "duration": 0.047379,
     "end_time": "2021-12-20T06:20:41.358047",
     "exception": false,
     "start_time": "2021-12-20T06:20:41.310668",
     "status": "completed"
    },
    "tags": []
   },
   "source": [
    "# Loading Data"
   ]
  },
  {
   "cell_type": "code",
   "execution_count": 2,
   "id": "2f539e2f",
   "metadata": {
    "execution": {
     "iopub.execute_input": "2021-12-20T06:20:41.457155Z",
     "iopub.status.busy": "2021-12-20T06:20:41.456528Z",
     "iopub.status.idle": "2021-12-20T06:21:01.325452Z",
     "shell.execute_reply": "2021-12-20T06:21:01.324906Z",
     "shell.execute_reply.started": "2021-12-19T21:29:12.887831Z"
    },
    "papermill": {
     "duration": 19.919625,
     "end_time": "2021-12-20T06:21:01.325604",
     "exception": false,
     "start_time": "2021-12-20T06:20:41.405979",
     "status": "completed"
    },
    "tags": []
   },
   "outputs": [],
   "source": [
    "df = pd.read_csv(\"C:/Users/91938/Downloads/DataSets/onlinefraud.csv\")"
   ]
  },
  {
   "cell_type": "code",
   "execution_count": 3,
   "id": "b43d7281",
   "metadata": {
    "execution": {
     "iopub.execute_input": "2021-12-20T06:21:01.424995Z",
     "iopub.status.busy": "2021-12-20T06:21:01.424337Z",
     "iopub.status.idle": "2021-12-20T06:21:01.448627Z",
     "shell.execute_reply": "2021-12-20T06:21:01.449128Z",
     "shell.execute_reply.started": "2021-12-19T21:29:31.960938Z"
    },
    "papermill": {
     "duration": 0.075275,
     "end_time": "2021-12-20T06:21:01.449324",
     "exception": false,
     "start_time": "2021-12-20T06:21:01.374049",
     "status": "completed"
    },
    "scrolled": true,
    "tags": []
   },
   "outputs": [
    {
     "data": {
      "text/html": [
       "<div>\n",
       "<style scoped>\n",
       "    .dataframe tbody tr th:only-of-type {\n",
       "        vertical-align: middle;\n",
       "    }\n",
       "\n",
       "    .dataframe tbody tr th {\n",
       "        vertical-align: top;\n",
       "    }\n",
       "\n",
       "    .dataframe thead th {\n",
       "        text-align: right;\n",
       "    }\n",
       "</style>\n",
       "<table border=\"1\" class=\"dataframe\">\n",
       "  <thead>\n",
       "    <tr style=\"text-align: right;\">\n",
       "      <th></th>\n",
       "      <th>step</th>\n",
       "      <th>type</th>\n",
       "      <th>amount</th>\n",
       "      <th>nameOrig</th>\n",
       "      <th>oldbalanceOrg</th>\n",
       "      <th>newbalanceOrig</th>\n",
       "      <th>nameDest</th>\n",
       "      <th>oldbalanceDest</th>\n",
       "      <th>newbalanceDest</th>\n",
       "      <th>isFraud</th>\n",
       "      <th>isFlaggedFraud</th>\n",
       "    </tr>\n",
       "  </thead>\n",
       "  <tbody>\n",
       "    <tr>\n",
       "      <th>0</th>\n",
       "      <td>1</td>\n",
       "      <td>PAYMENT</td>\n",
       "      <td>9839.64</td>\n",
       "      <td>C1231006815</td>\n",
       "      <td>170136.0</td>\n",
       "      <td>160296.36</td>\n",
       "      <td>M1979787155</td>\n",
       "      <td>0.0</td>\n",
       "      <td>0.0</td>\n",
       "      <td>0</td>\n",
       "      <td>0</td>\n",
       "    </tr>\n",
       "    <tr>\n",
       "      <th>1</th>\n",
       "      <td>1</td>\n",
       "      <td>PAYMENT</td>\n",
       "      <td>1864.28</td>\n",
       "      <td>C1666544295</td>\n",
       "      <td>21249.0</td>\n",
       "      <td>19384.72</td>\n",
       "      <td>M2044282225</td>\n",
       "      <td>0.0</td>\n",
       "      <td>0.0</td>\n",
       "      <td>0</td>\n",
       "      <td>0</td>\n",
       "    </tr>\n",
       "    <tr>\n",
       "      <th>2</th>\n",
       "      <td>1</td>\n",
       "      <td>TRANSFER</td>\n",
       "      <td>181.00</td>\n",
       "      <td>C1305486145</td>\n",
       "      <td>181.0</td>\n",
       "      <td>0.00</td>\n",
       "      <td>C553264065</td>\n",
       "      <td>0.0</td>\n",
       "      <td>0.0</td>\n",
       "      <td>1</td>\n",
       "      <td>0</td>\n",
       "    </tr>\n",
       "    <tr>\n",
       "      <th>3</th>\n",
       "      <td>1</td>\n",
       "      <td>CASH_OUT</td>\n",
       "      <td>181.00</td>\n",
       "      <td>C840083671</td>\n",
       "      <td>181.0</td>\n",
       "      <td>0.00</td>\n",
       "      <td>C38997010</td>\n",
       "      <td>21182.0</td>\n",
       "      <td>0.0</td>\n",
       "      <td>1</td>\n",
       "      <td>0</td>\n",
       "    </tr>\n",
       "    <tr>\n",
       "      <th>4</th>\n",
       "      <td>1</td>\n",
       "      <td>PAYMENT</td>\n",
       "      <td>11668.14</td>\n",
       "      <td>C2048537720</td>\n",
       "      <td>41554.0</td>\n",
       "      <td>29885.86</td>\n",
       "      <td>M1230701703</td>\n",
       "      <td>0.0</td>\n",
       "      <td>0.0</td>\n",
       "      <td>0</td>\n",
       "      <td>0</td>\n",
       "    </tr>\n",
       "  </tbody>\n",
       "</table>\n",
       "</div>"
      ],
      "text/plain": [
       "   step      type    amount     nameOrig  oldbalanceOrg  newbalanceOrig  \\\n",
       "0     1   PAYMENT   9839.64  C1231006815       170136.0       160296.36   \n",
       "1     1   PAYMENT   1864.28  C1666544295        21249.0        19384.72   \n",
       "2     1  TRANSFER    181.00  C1305486145          181.0            0.00   \n",
       "3     1  CASH_OUT    181.00   C840083671          181.0            0.00   \n",
       "4     1   PAYMENT  11668.14  C2048537720        41554.0        29885.86   \n",
       "\n",
       "      nameDest  oldbalanceDest  newbalanceDest  isFraud  isFlaggedFraud  \n",
       "0  M1979787155             0.0             0.0        0               0  \n",
       "1  M2044282225             0.0             0.0        0               0  \n",
       "2   C553264065             0.0             0.0        1               0  \n",
       "3    C38997010         21182.0             0.0        1               0  \n",
       "4  M1230701703             0.0             0.0        0               0  "
      ]
     },
     "execution_count": 3,
     "metadata": {},
     "output_type": "execute_result"
    }
   ],
   "source": [
    "df.head()"
   ]
  },
  {
   "cell_type": "code",
   "execution_count": 4,
   "id": "2c9445d9",
   "metadata": {
    "execution": {
     "iopub.execute_input": "2021-12-20T06:21:01.578432Z",
     "iopub.status.busy": "2021-12-20T06:21:01.567068Z",
     "iopub.status.idle": "2021-12-20T06:21:01.582095Z",
     "shell.execute_reply": "2021-12-20T06:21:01.581577Z",
     "shell.execute_reply.started": "2021-12-19T21:29:31.991867Z"
    },
    "papermill": {
     "duration": 0.084134,
     "end_time": "2021-12-20T06:21:01.582258",
     "exception": false,
     "start_time": "2021-12-20T06:21:01.498124",
     "status": "completed"
    },
    "tags": []
   },
   "outputs": [
    {
     "data": {
      "text/html": [
       "<div>\n",
       "<style scoped>\n",
       "    .dataframe tbody tr th:only-of-type {\n",
       "        vertical-align: middle;\n",
       "    }\n",
       "\n",
       "    .dataframe tbody tr th {\n",
       "        vertical-align: top;\n",
       "    }\n",
       "\n",
       "    .dataframe thead th {\n",
       "        text-align: right;\n",
       "    }\n",
       "</style>\n",
       "<table border=\"1\" class=\"dataframe\">\n",
       "  <thead>\n",
       "    <tr style=\"text-align: right;\">\n",
       "      <th></th>\n",
       "      <th>step</th>\n",
       "      <th>type</th>\n",
       "      <th>amount</th>\n",
       "      <th>nameOrig</th>\n",
       "      <th>oldbalanceOrg</th>\n",
       "      <th>newbalanceOrig</th>\n",
       "      <th>nameDest</th>\n",
       "      <th>oldbalanceDest</th>\n",
       "      <th>newbalanceDest</th>\n",
       "      <th>isFraud</th>\n",
       "      <th>isFlaggedFraud</th>\n",
       "    </tr>\n",
       "  </thead>\n",
       "  <tbody>\n",
       "    <tr>\n",
       "      <th>0</th>\n",
       "      <td>1</td>\n",
       "      <td>PAYMENT</td>\n",
       "      <td>9839.64</td>\n",
       "      <td>C1231006815</td>\n",
       "      <td>170136.00</td>\n",
       "      <td>160296.36</td>\n",
       "      <td>M1979787155</td>\n",
       "      <td>0.00</td>\n",
       "      <td>0.00</td>\n",
       "      <td>0</td>\n",
       "      <td>0</td>\n",
       "    </tr>\n",
       "    <tr>\n",
       "      <th>1</th>\n",
       "      <td>1</td>\n",
       "      <td>PAYMENT</td>\n",
       "      <td>1864.28</td>\n",
       "      <td>C1666544295</td>\n",
       "      <td>21249.00</td>\n",
       "      <td>19384.72</td>\n",
       "      <td>M2044282225</td>\n",
       "      <td>0.00</td>\n",
       "      <td>0.00</td>\n",
       "      <td>0</td>\n",
       "      <td>0</td>\n",
       "    </tr>\n",
       "    <tr>\n",
       "      <th>2</th>\n",
       "      <td>1</td>\n",
       "      <td>TRANSFER</td>\n",
       "      <td>181.00</td>\n",
       "      <td>C1305486145</td>\n",
       "      <td>181.00</td>\n",
       "      <td>0.00</td>\n",
       "      <td>C553264065</td>\n",
       "      <td>0.00</td>\n",
       "      <td>0.00</td>\n",
       "      <td>1</td>\n",
       "      <td>0</td>\n",
       "    </tr>\n",
       "    <tr>\n",
       "      <th>3</th>\n",
       "      <td>1</td>\n",
       "      <td>CASH_OUT</td>\n",
       "      <td>181.00</td>\n",
       "      <td>C840083671</td>\n",
       "      <td>181.00</td>\n",
       "      <td>0.00</td>\n",
       "      <td>C38997010</td>\n",
       "      <td>21182.00</td>\n",
       "      <td>0.00</td>\n",
       "      <td>1</td>\n",
       "      <td>0</td>\n",
       "    </tr>\n",
       "    <tr>\n",
       "      <th>4</th>\n",
       "      <td>1</td>\n",
       "      <td>PAYMENT</td>\n",
       "      <td>11668.14</td>\n",
       "      <td>C2048537720</td>\n",
       "      <td>41554.00</td>\n",
       "      <td>29885.86</td>\n",
       "      <td>M1230701703</td>\n",
       "      <td>0.00</td>\n",
       "      <td>0.00</td>\n",
       "      <td>0</td>\n",
       "      <td>0</td>\n",
       "    </tr>\n",
       "    <tr>\n",
       "      <th>...</th>\n",
       "      <td>...</td>\n",
       "      <td>...</td>\n",
       "      <td>...</td>\n",
       "      <td>...</td>\n",
       "      <td>...</td>\n",
       "      <td>...</td>\n",
       "      <td>...</td>\n",
       "      <td>...</td>\n",
       "      <td>...</td>\n",
       "      <td>...</td>\n",
       "      <td>...</td>\n",
       "    </tr>\n",
       "    <tr>\n",
       "      <th>6362615</th>\n",
       "      <td>743</td>\n",
       "      <td>CASH_OUT</td>\n",
       "      <td>339682.13</td>\n",
       "      <td>C786484425</td>\n",
       "      <td>339682.13</td>\n",
       "      <td>0.00</td>\n",
       "      <td>C776919290</td>\n",
       "      <td>0.00</td>\n",
       "      <td>339682.13</td>\n",
       "      <td>1</td>\n",
       "      <td>0</td>\n",
       "    </tr>\n",
       "    <tr>\n",
       "      <th>6362616</th>\n",
       "      <td>743</td>\n",
       "      <td>TRANSFER</td>\n",
       "      <td>6311409.28</td>\n",
       "      <td>C1529008245</td>\n",
       "      <td>6311409.28</td>\n",
       "      <td>0.00</td>\n",
       "      <td>C1881841831</td>\n",
       "      <td>0.00</td>\n",
       "      <td>0.00</td>\n",
       "      <td>1</td>\n",
       "      <td>0</td>\n",
       "    </tr>\n",
       "    <tr>\n",
       "      <th>6362617</th>\n",
       "      <td>743</td>\n",
       "      <td>CASH_OUT</td>\n",
       "      <td>6311409.28</td>\n",
       "      <td>C1162922333</td>\n",
       "      <td>6311409.28</td>\n",
       "      <td>0.00</td>\n",
       "      <td>C1365125890</td>\n",
       "      <td>68488.84</td>\n",
       "      <td>6379898.11</td>\n",
       "      <td>1</td>\n",
       "      <td>0</td>\n",
       "    </tr>\n",
       "    <tr>\n",
       "      <th>6362618</th>\n",
       "      <td>743</td>\n",
       "      <td>TRANSFER</td>\n",
       "      <td>850002.52</td>\n",
       "      <td>C1685995037</td>\n",
       "      <td>850002.52</td>\n",
       "      <td>0.00</td>\n",
       "      <td>C2080388513</td>\n",
       "      <td>0.00</td>\n",
       "      <td>0.00</td>\n",
       "      <td>1</td>\n",
       "      <td>0</td>\n",
       "    </tr>\n",
       "    <tr>\n",
       "      <th>6362619</th>\n",
       "      <td>743</td>\n",
       "      <td>CASH_OUT</td>\n",
       "      <td>850002.52</td>\n",
       "      <td>C1280323807</td>\n",
       "      <td>850002.52</td>\n",
       "      <td>0.00</td>\n",
       "      <td>C873221189</td>\n",
       "      <td>6510099.11</td>\n",
       "      <td>7360101.63</td>\n",
       "      <td>1</td>\n",
       "      <td>0</td>\n",
       "    </tr>\n",
       "  </tbody>\n",
       "</table>\n",
       "<p>6362620 rows × 11 columns</p>\n",
       "</div>"
      ],
      "text/plain": [
       "         step      type      amount     nameOrig  oldbalanceOrg  \\\n",
       "0           1   PAYMENT     9839.64  C1231006815      170136.00   \n",
       "1           1   PAYMENT     1864.28  C1666544295       21249.00   \n",
       "2           1  TRANSFER      181.00  C1305486145         181.00   \n",
       "3           1  CASH_OUT      181.00   C840083671         181.00   \n",
       "4           1   PAYMENT    11668.14  C2048537720       41554.00   \n",
       "...       ...       ...         ...          ...            ...   \n",
       "6362615   743  CASH_OUT   339682.13   C786484425      339682.13   \n",
       "6362616   743  TRANSFER  6311409.28  C1529008245     6311409.28   \n",
       "6362617   743  CASH_OUT  6311409.28  C1162922333     6311409.28   \n",
       "6362618   743  TRANSFER   850002.52  C1685995037      850002.52   \n",
       "6362619   743  CASH_OUT   850002.52  C1280323807      850002.52   \n",
       "\n",
       "         newbalanceOrig     nameDest  oldbalanceDest  newbalanceDest  isFraud  \\\n",
       "0             160296.36  M1979787155            0.00            0.00        0   \n",
       "1              19384.72  M2044282225            0.00            0.00        0   \n",
       "2                  0.00   C553264065            0.00            0.00        1   \n",
       "3                  0.00    C38997010        21182.00            0.00        1   \n",
       "4              29885.86  M1230701703            0.00            0.00        0   \n",
       "...                 ...          ...             ...             ...      ...   \n",
       "6362615            0.00   C776919290            0.00       339682.13        1   \n",
       "6362616            0.00  C1881841831            0.00            0.00        1   \n",
       "6362617            0.00  C1365125890        68488.84      6379898.11        1   \n",
       "6362618            0.00  C2080388513            0.00            0.00        1   \n",
       "6362619            0.00   C873221189      6510099.11      7360101.63        1   \n",
       "\n",
       "         isFlaggedFraud  \n",
       "0                     0  \n",
       "1                     0  \n",
       "2                     0  \n",
       "3                     0  \n",
       "4                     0  \n",
       "...                 ...  \n",
       "6362615               0  \n",
       "6362616               0  \n",
       "6362617               0  \n",
       "6362618               0  \n",
       "6362619               0  \n",
       "\n",
       "[6362620 rows x 11 columns]"
      ]
     },
     "execution_count": 4,
     "metadata": {},
     "output_type": "execute_result"
    }
   ],
   "source": [
    "df"
   ]
  },
  {
   "cell_type": "markdown",
   "id": "f6683aaf",
   "metadata": {
    "papermill": {
     "duration": 0.049025,
     "end_time": "2021-12-20T06:21:01.680549",
     "exception": false,
     "start_time": "2021-12-20T06:21:01.631524",
     "status": "completed"
    },
    "tags": []
   },
   "source": [
    "# Taking Sample"
   ]
  },
  {
   "cell_type": "code",
   "execution_count": 5,
   "id": "ef30275a",
   "metadata": {
    "execution": {
     "iopub.execute_input": "2021-12-20T06:21:01.789538Z",
     "iopub.status.busy": "2021-12-20T06:21:01.788884Z",
     "iopub.status.idle": "2021-12-20T06:21:11.854680Z",
     "shell.execute_reply": "2021-12-20T06:21:11.853957Z",
     "shell.execute_reply.started": "2021-12-19T21:29:32.024597Z"
    },
    "papermill": {
     "duration": 10.125087,
     "end_time": "2021-12-20T06:21:11.854830",
     "exception": false,
     "start_time": "2021-12-20T06:21:01.729743",
     "status": "completed"
    },
    "tags": []
   },
   "outputs": [],
   "source": [
    "df_sample, _ = train_test_split(df, test_size=0.92141601,random_state=1234, stratify=df[\"isFraud\"]) \n",
    "\n",
    "#0.92141601 to take 500000 sample "
   ]
  },
  {
   "cell_type": "code",
   "execution_count": 6,
   "id": "3a5fa337",
   "metadata": {
    "execution": {
     "iopub.execute_input": "2021-12-20T06:21:11.958494Z",
     "iopub.status.busy": "2021-12-20T06:21:11.957472Z",
     "iopub.status.idle": "2021-12-20T06:21:11.962589Z",
     "shell.execute_reply": "2021-12-20T06:21:11.963171Z",
     "shell.execute_reply.started": "2021-12-19T21:29:42.155669Z"
    },
    "papermill": {
     "duration": 0.058652,
     "end_time": "2021-12-20T06:21:11.963357",
     "exception": false,
     "start_time": "2021-12-20T06:21:11.904705",
     "status": "completed"
    },
    "tags": []
   },
   "outputs": [
    {
     "data": {
      "text/plain": [
       "(500000, 11)"
      ]
     },
     "execution_count": 6,
     "metadata": {},
     "output_type": "execute_result"
    }
   ],
   "source": [
    "df_sample.shape"
   ]
  },
  {
   "cell_type": "markdown",
   "id": "eecaea9e",
   "metadata": {
    "papermill": {
     "duration": 0.049516,
     "end_time": "2021-12-20T06:21:12.063099",
     "exception": false,
     "start_time": "2021-12-20T06:21:12.013583",
     "status": "completed"
    },
    "tags": []
   },
   "source": [
    "# Train - Test Split"
   ]
  },
  {
   "cell_type": "code",
   "execution_count": 7,
   "id": "8ce01647",
   "metadata": {
    "execution": {
     "iopub.execute_input": "2021-12-20T06:21:12.169045Z",
     "iopub.status.busy": "2021-12-20T06:21:12.168058Z",
     "iopub.status.idle": "2021-12-20T06:21:13.228421Z",
     "shell.execute_reply": "2021-12-20T06:21:13.229023Z",
     "shell.execute_reply.started": "2021-12-19T21:29:42.162837Z"
    },
    "papermill": {
     "duration": 1.116374,
     "end_time": "2021-12-20T06:21:13.229218",
     "exception": false,
     "start_time": "2021-12-20T06:21:12.112844",
     "status": "completed"
    },
    "tags": []
   },
   "outputs": [],
   "source": [
    "df_train, df_test = train_test_split(df_sample, test_size=0.2,random_state=123,stratify=df_sample[\"isFraud\"])\n",
    "df_train, df_val = train_test_split(df_train, test_size=0.25,random_state=123,stratify=df_train[\"isFraud\"])"
   ]
  },
  {
   "cell_type": "code",
   "execution_count": 8,
   "id": "5d50a8e0",
   "metadata": {
    "execution": {
     "iopub.execute_input": "2021-12-20T06:21:13.333285Z",
     "iopub.status.busy": "2021-12-20T06:21:13.332280Z",
     "iopub.status.idle": "2021-12-20T06:21:13.337684Z",
     "shell.execute_reply": "2021-12-20T06:21:13.338183Z",
     "shell.execute_reply.started": "2021-12-19T21:29:43.239602Z"
    },
    "papermill": {
     "duration": 0.059512,
     "end_time": "2021-12-20T06:21:13.338369",
     "exception": false,
     "start_time": "2021-12-20T06:21:13.278857",
     "status": "completed"
    },
    "tags": []
   },
   "outputs": [
    {
     "data": {
      "text/plain": [
       "(300000, 11)"
      ]
     },
     "execution_count": 8,
     "metadata": {},
     "output_type": "execute_result"
    }
   ],
   "source": [
    "df_train.shape"
   ]
  },
  {
   "cell_type": "code",
   "execution_count": 9,
   "id": "1bd6e97d",
   "metadata": {
    "execution": {
     "iopub.execute_input": "2021-12-20T06:21:13.445271Z",
     "iopub.status.busy": "2021-12-20T06:21:13.444536Z",
     "iopub.status.idle": "2021-12-20T06:21:13.447514Z",
     "shell.execute_reply": "2021-12-20T06:21:13.448070Z",
     "shell.execute_reply.started": "2021-12-19T21:29:43.246865Z"
    },
    "papermill": {
     "duration": 0.059171,
     "end_time": "2021-12-20T06:21:13.448258",
     "exception": false,
     "start_time": "2021-12-20T06:21:13.389087",
     "status": "completed"
    },
    "tags": []
   },
   "outputs": [
    {
     "data": {
      "text/plain": [
       "(100000, 11)"
      ]
     },
     "execution_count": 9,
     "metadata": {},
     "output_type": "execute_result"
    }
   ],
   "source": [
    "df_test.shape"
   ]
  },
  {
   "cell_type": "code",
   "execution_count": 10,
   "id": "f68b1742",
   "metadata": {
    "execution": {
     "iopub.execute_input": "2021-12-20T06:21:13.555876Z",
     "iopub.status.busy": "2021-12-20T06:21:13.552748Z",
     "iopub.status.idle": "2021-12-20T06:21:13.558913Z",
     "shell.execute_reply": "2021-12-20T06:21:13.559485Z",
     "shell.execute_reply.started": "2021-12-19T21:29:43.263246Z"
    },
    "papermill": {
     "duration": 0.060747,
     "end_time": "2021-12-20T06:21:13.559668",
     "exception": false,
     "start_time": "2021-12-20T06:21:13.498921",
     "status": "completed"
    },
    "tags": []
   },
   "outputs": [
    {
     "data": {
      "text/plain": [
       "(100000, 11)"
      ]
     },
     "execution_count": 10,
     "metadata": {},
     "output_type": "execute_result"
    }
   ],
   "source": [
    "df_val.shape"
   ]
  },
  {
   "cell_type": "markdown",
   "id": "a18aaa76",
   "metadata": {
    "papermill": {
     "duration": 0.050456,
     "end_time": "2021-12-20T06:21:13.661623",
     "exception": false,
     "start_time": "2021-12-20T06:21:13.611167",
     "status": "completed"
    },
    "tags": []
   },
   "source": [
    "# EDA"
   ]
  },
  {
   "cell_type": "code",
   "execution_count": 11,
   "id": "3471d2df",
   "metadata": {
    "execution": {
     "iopub.execute_input": "2021-12-20T06:21:13.768959Z",
     "iopub.status.busy": "2021-12-20T06:21:13.767872Z",
     "iopub.status.idle": "2021-12-20T06:21:13.960926Z",
     "shell.execute_reply": "2021-12-20T06:21:13.960414Z",
     "shell.execute_reply.started": "2021-12-19T21:29:43.277511Z"
    },
    "papermill": {
     "duration": 0.248749,
     "end_time": "2021-12-20T06:21:13.961080",
     "exception": false,
     "start_time": "2021-12-20T06:21:13.712331",
     "status": "completed"
    },
    "tags": []
   },
   "outputs": [
    {
     "name": "stdout",
     "output_type": "stream",
     "text": [
      "<class 'pandas.core.frame.DataFrame'>\n",
      "Index: 300000 entries, 486548 to 4214666\n",
      "Data columns (total 11 columns):\n",
      " #   Column          Non-Null Count   Dtype  \n",
      "---  ------          --------------   -----  \n",
      " 0   step            300000 non-null  int64  \n",
      " 1   type            300000 non-null  object \n",
      " 2   amount          300000 non-null  float64\n",
      " 3   nameOrig        300000 non-null  object \n",
      " 4   oldbalanceOrg   300000 non-null  float64\n",
      " 5   newbalanceOrig  300000 non-null  float64\n",
      " 6   nameDest        300000 non-null  object \n",
      " 7   oldbalanceDest  300000 non-null  float64\n",
      " 8   newbalanceDest  300000 non-null  float64\n",
      " 9   isFraud         300000 non-null  int64  \n",
      " 10  isFlaggedFraud  300000 non-null  int64  \n",
      "dtypes: float64(5), int64(3), object(3)\n",
      "memory usage: 27.5+ MB\n"
     ]
    }
   ],
   "source": [
    "df_train.info()"
   ]
  },
  {
   "cell_type": "code",
   "execution_count": 12,
   "id": "f1d5b951",
   "metadata": {
    "execution": {
     "iopub.execute_input": "2021-12-20T06:21:14.067609Z",
     "iopub.status.busy": "2021-12-20T06:21:14.065806Z",
     "iopub.status.idle": "2021-12-20T06:21:14.247088Z",
     "shell.execute_reply": "2021-12-20T06:21:14.246566Z",
     "shell.execute_reply.started": "2021-12-19T21:29:43.467185Z"
    },
    "papermill": {
     "duration": 0.235167,
     "end_time": "2021-12-20T06:21:14.247250",
     "exception": false,
     "start_time": "2021-12-20T06:21:14.012083",
     "status": "completed"
    },
    "tags": []
   },
   "outputs": [
    {
     "data": {
      "text/plain": [
       "step              0\n",
       "type              0\n",
       "amount            0\n",
       "nameOrig          0\n",
       "oldbalanceOrg     0\n",
       "newbalanceOrig    0\n",
       "nameDest          0\n",
       "oldbalanceDest    0\n",
       "newbalanceDest    0\n",
       "isFraud           0\n",
       "isFlaggedFraud    0\n",
       "dtype: int64"
      ]
     },
     "execution_count": 12,
     "metadata": {},
     "output_type": "execute_result"
    }
   ],
   "source": [
    "df_train.isnull().sum()"
   ]
  },
  {
   "cell_type": "code",
   "execution_count": 13,
   "id": "ca9b8b14",
   "metadata": {
    "execution": {
     "iopub.execute_input": "2021-12-20T06:21:14.355471Z",
     "iopub.status.busy": "2021-12-20T06:21:14.354746Z",
     "iopub.status.idle": "2021-12-20T06:21:15.019304Z",
     "shell.execute_reply": "2021-12-20T06:21:15.018703Z",
     "shell.execute_reply.started": "2021-12-19T21:29:43.643546Z"
    },
    "papermill": {
     "duration": 0.720682,
     "end_time": "2021-12-20T06:21:15.019470",
     "exception": false,
     "start_time": "2021-12-20T06:21:14.298788",
     "status": "completed"
    },
    "tags": []
   },
   "outputs": [],
   "source": [
    "#Drop Duplicates\n",
    "\n",
    "df_train.drop_duplicates(keep=False, inplace=True)"
   ]
  },
  {
   "cell_type": "code",
   "execution_count": 14,
   "id": "7fffd305",
   "metadata": {
    "execution": {
     "iopub.execute_input": "2021-12-20T06:21:15.128730Z",
     "iopub.status.busy": "2021-12-20T06:21:15.127962Z",
     "iopub.status.idle": "2021-12-20T06:21:15.130912Z",
     "shell.execute_reply": "2021-12-20T06:21:15.131440Z",
     "shell.execute_reply.started": "2021-12-19T21:29:44.314005Z"
    },
    "papermill": {
     "duration": 0.059919,
     "end_time": "2021-12-20T06:21:15.131610",
     "exception": false,
     "start_time": "2021-12-20T06:21:15.071691",
     "status": "completed"
    },
    "tags": []
   },
   "outputs": [
    {
     "data": {
      "text/plain": [
       "(300000, 11)"
      ]
     },
     "execution_count": 14,
     "metadata": {},
     "output_type": "execute_result"
    }
   ],
   "source": [
    "df_train.shape"
   ]
  },
  {
   "cell_type": "code",
   "execution_count": 15,
   "id": "726efdaf",
   "metadata": {
    "execution": {
     "iopub.execute_input": "2021-12-20T06:21:15.239645Z",
     "iopub.status.busy": "2021-12-20T06:21:15.238936Z",
     "iopub.status.idle": "2021-12-20T06:21:15.357290Z",
     "shell.execute_reply": "2021-12-20T06:21:15.356731Z",
     "shell.execute_reply.started": "2021-12-19T21:29:44.320542Z"
    },
    "papermill": {
     "duration": 0.173583,
     "end_time": "2021-12-20T06:21:15.357470",
     "exception": false,
     "start_time": "2021-12-20T06:21:15.183887",
     "status": "completed"
    },
    "tags": []
   },
   "outputs": [
    {
     "data": {
      "text/html": [
       "<div>\n",
       "<style scoped>\n",
       "    .dataframe tbody tr th:only-of-type {\n",
       "        vertical-align: middle;\n",
       "    }\n",
       "\n",
       "    .dataframe tbody tr th {\n",
       "        vertical-align: top;\n",
       "    }\n",
       "\n",
       "    .dataframe thead th {\n",
       "        text-align: right;\n",
       "    }\n",
       "</style>\n",
       "<table border=\"1\" class=\"dataframe\">\n",
       "  <thead>\n",
       "    <tr style=\"text-align: right;\">\n",
       "      <th></th>\n",
       "      <th>step</th>\n",
       "      <th>amount</th>\n",
       "      <th>oldbalanceOrg</th>\n",
       "      <th>newbalanceOrig</th>\n",
       "      <th>oldbalanceDest</th>\n",
       "      <th>newbalanceDest</th>\n",
       "      <th>isFraud</th>\n",
       "      <th>isFlaggedFraud</th>\n",
       "    </tr>\n",
       "  </thead>\n",
       "  <tbody>\n",
       "    <tr>\n",
       "      <th>count</th>\n",
       "      <td>300000.000000</td>\n",
       "      <td>3.000000e+05</td>\n",
       "      <td>3.000000e+05</td>\n",
       "      <td>3.000000e+05</td>\n",
       "      <td>3.000000e+05</td>\n",
       "      <td>3.000000e+05</td>\n",
       "      <td>300000.000000</td>\n",
       "      <td>300000.000000</td>\n",
       "    </tr>\n",
       "    <tr>\n",
       "      <th>mean</th>\n",
       "      <td>243.518963</td>\n",
       "      <td>1.797030e+05</td>\n",
       "      <td>8.336019e+05</td>\n",
       "      <td>8.549314e+05</td>\n",
       "      <td>1.097957e+06</td>\n",
       "      <td>1.221330e+06</td>\n",
       "      <td>0.001290</td>\n",
       "      <td>0.000003</td>\n",
       "    </tr>\n",
       "    <tr>\n",
       "      <th>std</th>\n",
       "      <td>141.901298</td>\n",
       "      <td>6.022078e+05</td>\n",
       "      <td>2.895000e+06</td>\n",
       "      <td>2.930307e+06</td>\n",
       "      <td>3.346001e+06</td>\n",
       "      <td>3.621448e+06</td>\n",
       "      <td>0.035893</td>\n",
       "      <td>0.001826</td>\n",
       "    </tr>\n",
       "    <tr>\n",
       "      <th>min</th>\n",
       "      <td>1.000000</td>\n",
       "      <td>0.000000e+00</td>\n",
       "      <td>0.000000e+00</td>\n",
       "      <td>0.000000e+00</td>\n",
       "      <td>0.000000e+00</td>\n",
       "      <td>0.000000e+00</td>\n",
       "      <td>0.000000</td>\n",
       "      <td>0.000000</td>\n",
       "    </tr>\n",
       "    <tr>\n",
       "      <th>25%</th>\n",
       "      <td>156.000000</td>\n",
       "      <td>1.324180e+04</td>\n",
       "      <td>0.000000e+00</td>\n",
       "      <td>0.000000e+00</td>\n",
       "      <td>0.000000e+00</td>\n",
       "      <td>0.000000e+00</td>\n",
       "      <td>0.000000</td>\n",
       "      <td>0.000000</td>\n",
       "    </tr>\n",
       "    <tr>\n",
       "      <th>50%</th>\n",
       "      <td>239.000000</td>\n",
       "      <td>7.426901e+04</td>\n",
       "      <td>1.392974e+04</td>\n",
       "      <td>0.000000e+00</td>\n",
       "      <td>1.305861e+05</td>\n",
       "      <td>2.120638e+05</td>\n",
       "      <td>0.000000</td>\n",
       "      <td>0.000000</td>\n",
       "    </tr>\n",
       "    <tr>\n",
       "      <th>75%</th>\n",
       "      <td>334.000000</td>\n",
       "      <td>2.077247e+05</td>\n",
       "      <td>1.068955e+05</td>\n",
       "      <td>1.439608e+05</td>\n",
       "      <td>9.426017e+05</td>\n",
       "      <td>1.111275e+06</td>\n",
       "      <td>0.000000</td>\n",
       "      <td>0.000000</td>\n",
       "    </tr>\n",
       "    <tr>\n",
       "      <th>max</th>\n",
       "      <td>742.000000</td>\n",
       "      <td>5.512957e+07</td>\n",
       "      <td>3.741827e+07</td>\n",
       "      <td>3.498450e+07</td>\n",
       "      <td>3.114049e+08</td>\n",
       "      <td>3.114929e+08</td>\n",
       "      <td>1.000000</td>\n",
       "      <td>1.000000</td>\n",
       "    </tr>\n",
       "  </tbody>\n",
       "</table>\n",
       "</div>"
      ],
      "text/plain": [
       "                step        amount  oldbalanceOrg  newbalanceOrig  \\\n",
       "count  300000.000000  3.000000e+05   3.000000e+05    3.000000e+05   \n",
       "mean      243.518963  1.797030e+05   8.336019e+05    8.549314e+05   \n",
       "std       141.901298  6.022078e+05   2.895000e+06    2.930307e+06   \n",
       "min         1.000000  0.000000e+00   0.000000e+00    0.000000e+00   \n",
       "25%       156.000000  1.324180e+04   0.000000e+00    0.000000e+00   \n",
       "50%       239.000000  7.426901e+04   1.392974e+04    0.000000e+00   \n",
       "75%       334.000000  2.077247e+05   1.068955e+05    1.439608e+05   \n",
       "max       742.000000  5.512957e+07   3.741827e+07    3.498450e+07   \n",
       "\n",
       "       oldbalanceDest  newbalanceDest        isFraud  isFlaggedFraud  \n",
       "count    3.000000e+05    3.000000e+05  300000.000000   300000.000000  \n",
       "mean     1.097957e+06    1.221330e+06       0.001290        0.000003  \n",
       "std      3.346001e+06    3.621448e+06       0.035893        0.001826  \n",
       "min      0.000000e+00    0.000000e+00       0.000000        0.000000  \n",
       "25%      0.000000e+00    0.000000e+00       0.000000        0.000000  \n",
       "50%      1.305861e+05    2.120638e+05       0.000000        0.000000  \n",
       "75%      9.426017e+05    1.111275e+06       0.000000        0.000000  \n",
       "max      3.114049e+08    3.114929e+08       1.000000        1.000000  "
      ]
     },
     "execution_count": 15,
     "metadata": {},
     "output_type": "execute_result"
    }
   ],
   "source": [
    "df_train.describe()"
   ]
  },
  {
   "cell_type": "markdown",
   "id": "d232a532",
   "metadata": {
    "papermill": {
     "duration": 0.052545,
     "end_time": "2021-12-20T06:21:15.464724",
     "exception": false,
     "start_time": "2021-12-20T06:21:15.412179",
     "status": "completed"
    },
    "tags": []
   },
   "source": [
    "### 1 - isFraud"
   ]
  },
  {
   "cell_type": "code",
   "execution_count": 16,
   "id": "f789fa72",
   "metadata": {
    "execution": {
     "iopub.execute_input": "2021-12-20T06:21:15.581344Z",
     "iopub.status.busy": "2021-12-20T06:21:15.580620Z",
     "iopub.status.idle": "2021-12-20T06:21:15.842153Z",
     "shell.execute_reply": "2021-12-20T06:21:15.841554Z",
     "shell.execute_reply.started": "2021-12-19T21:29:44.453714Z"
    },
    "papermill": {
     "duration": 0.324877,
     "end_time": "2021-12-20T06:21:15.842311",
     "exception": false,
     "start_time": "2021-12-20T06:21:15.517434",
     "status": "completed"
    },
    "tags": []
   },
   "outputs": [
    {
     "data": {
      "image/png": "[encoded data removed]",
      "text/plain": [
       "<Figure size 400x400 with 1 Axes>"
      ]
     },
     "metadata": {},
     "output_type": "display_data"
    }
   ],
   "source": [
    "plt.figure(figsize=(4,4))\n",
    "df_train['isFraud'].value_counts()\n",
    "sns.set_theme(style=\"darkgrid\")\n",
    "ax = sns.countplot(x=\"isFraud\", data=df_train,color = \"#0c2054\" )\n",
    "for p in ax.patches:\n",
    "    ax.annotate(str(format(int(p.get_height()), ',d')),\n",
    "            (p.get_x(), p.get_height()))"
   ]
  },
  {
   "cell_type": "markdown",
   "id": "17978133",
   "metadata": {
    "papermill": {
     "duration": 0.054826,
     "end_time": "2021-12-20T06:21:15.950277",
     "exception": false,
     "start_time": "2021-12-20T06:21:15.895451",
     "status": "completed"
    },
    "tags": []
   },
   "source": [
    "isFraud Column shows that the classes are imbalanced"
   ]
  },
  {
   "cell_type": "markdown",
   "id": "9a115fdb",
   "metadata": {
    "papermill": {
     "duration": 0.053709,
     "end_time": "2021-12-20T06:21:16.057871",
     "exception": false,
     "start_time": "2021-12-20T06:21:16.004162",
     "status": "completed"
    },
    "tags": []
   },
   "source": [
    "### 2 - isFlaggedFraud"
   ]
  },
  {
   "cell_type": "code",
   "execution_count": 17,
   "id": "39a3bce6",
   "metadata": {
    "execution": {
     "iopub.execute_input": "2021-12-20T06:21:16.176484Z",
     "iopub.status.busy": "2021-12-20T06:21:16.175335Z",
     "iopub.status.idle": "2021-12-20T06:21:16.389338Z",
     "shell.execute_reply": "2021-12-20T06:21:16.388718Z",
     "shell.execute_reply.started": "2021-12-19T21:29:44.730286Z"
    },
    "papermill": {
     "duration": 0.27836,
     "end_time": "2021-12-20T06:21:16.389489",
     "exception": false,
     "start_time": "2021-12-20T06:21:16.111129",
     "status": "completed"
    },
    "tags": []
   },
   "outputs": [
    {
     "data": {
      "image/png": "[encoded data removed]",
      "text/plain": [
       "<Figure size 640x480 with 1 Axes>"
      ]
     },
     "metadata": {},
     "output_type": "display_data"
    }
   ],
   "source": [
    "df_train['isFlaggedFraud'].value_counts()\n",
    "sns.set_theme(style=\"darkgrid\")\n",
    "ax = sns.countplot(x=\"isFlaggedFraud\", data=df_train,color = \"#0c2054\")\n",
    "for p in ax.patches:\n",
    "    ax.annotate(str(format(int(p.get_height()), ',d')), (p.get_x(), p.get_height()))"
   ]
  },
  {
   "cell_type": "markdown",
   "id": "a348dd18",
   "metadata": {
    "papermill": {
     "duration": 0.058535,
     "end_time": "2021-12-20T06:21:16.502090",
     "exception": false,
     "start_time": "2021-12-20T06:21:16.443555",
     "status": "completed"
    },
    "tags": []
   },
   "source": [
    "### 3- Type"
   ]
  },
  {
   "cell_type": "code",
   "execution_count": 18,
   "id": "b3f3856e",
   "metadata": {
    "execution": {
     "iopub.execute_input": "2021-12-20T06:21:16.612949Z",
     "iopub.status.busy": "2021-12-20T06:21:16.612282Z",
     "iopub.status.idle": "2021-12-20T06:21:16.910250Z",
     "shell.execute_reply": "2021-12-20T06:21:16.909707Z",
     "shell.execute_reply.started": "2021-12-19T21:29:44.959436Z"
    },
    "papermill": {
     "duration": 0.354491,
     "end_time": "2021-12-20T06:21:16.910396",
     "exception": false,
     "start_time": "2021-12-20T06:21:16.555905",
     "status": "completed"
    },
    "scrolled": true,
    "tags": []
   },
   "outputs": [
    {
     "data": {
      "image/png": "[encoded data removed]",
      "text/plain": [
       "<Figure size 800x800 with 1 Axes>"
      ]
     },
     "metadata": {},
     "output_type": "display_data"
    }
   ],
   "source": [
    "f, ax = plt.subplots(1, 1, figsize=(4, 4))\n",
    "df_train.type.value_counts().plot(kind='bar', title=\"Transaction type\", ax=ax, figsize=(8,8),color = \"#0c2054\")\n",
    "plt.ticklabel_format(style='plain', axis='y')"
   ]
  },
  {
   "cell_type": "code",
   "execution_count": 19,
   "id": "287985b9",
   "metadata": {
    "execution": {
     "iopub.execute_input": "2021-12-20T06:21:17.026961Z",
     "iopub.status.busy": "2021-12-20T06:21:17.026135Z",
     "iopub.status.idle": "2021-12-20T06:21:17.104866Z",
     "shell.execute_reply": "2021-12-20T06:21:17.104310Z",
     "shell.execute_reply.started": "2021-12-19T21:29:45.267722Z"
    },
    "papermill": {
     "duration": 0.139653,
     "end_time": "2021-12-20T06:21:17.105015",
     "exception": false,
     "start_time": "2021-12-20T06:21:16.965362",
     "status": "completed"
    },
    "tags": []
   },
   "outputs": [
    {
     "data": {
      "text/html": [
       "<div>\n",
       "<style scoped>\n",
       "    .dataframe tbody tr th:only-of-type {\n",
       "        vertical-align: middle;\n",
       "    }\n",
       "\n",
       "    .dataframe tbody tr th {\n",
       "        vertical-align: top;\n",
       "    }\n",
       "\n",
       "    .dataframe thead th {\n",
       "        text-align: right;\n",
       "    }\n",
       "</style>\n",
       "<table border=\"1\" class=\"dataframe\">\n",
       "  <thead>\n",
       "    <tr style=\"text-align: right;\">\n",
       "      <th>isFraud</th>\n",
       "      <th>0</th>\n",
       "      <th>1</th>\n",
       "    </tr>\n",
       "    <tr>\n",
       "      <th>type</th>\n",
       "      <th></th>\n",
       "      <th></th>\n",
       "    </tr>\n",
       "  </thead>\n",
       "  <tbody>\n",
       "    <tr>\n",
       "      <th>CASH_IN</th>\n",
       "      <td>65987</td>\n",
       "      <td>0</td>\n",
       "    </tr>\n",
       "    <tr>\n",
       "      <th>CASH_OUT</th>\n",
       "      <td>104850</td>\n",
       "      <td>192</td>\n",
       "    </tr>\n",
       "    <tr>\n",
       "      <th>DEBIT</th>\n",
       "      <td>1955</td>\n",
       "      <td>0</td>\n",
       "    </tr>\n",
       "    <tr>\n",
       "      <th>PAYMENT</th>\n",
       "      <td>101920</td>\n",
       "      <td>0</td>\n",
       "    </tr>\n",
       "    <tr>\n",
       "      <th>TRANSFER</th>\n",
       "      <td>24901</td>\n",
       "      <td>195</td>\n",
       "    </tr>\n",
       "  </tbody>\n",
       "</table>\n",
       "</div>"
      ],
      "text/plain": [
       "isFraud        0    1\n",
       "type                 \n",
       "CASH_IN    65987    0\n",
       "CASH_OUT  104850  192\n",
       "DEBIT       1955    0\n",
       "PAYMENT   101920    0\n",
       "TRANSFER   24901  195"
      ]
     },
     "execution_count": 19,
     "metadata": {},
     "output_type": "execute_result"
    }
   ],
   "source": [
    "pd.crosstab(df_train['type'], df_train['isFraud'])"
   ]
  },
  {
   "cell_type": "code",
   "execution_count": 20,
   "id": "4a185b2d",
   "metadata": {
    "execution": {
     "iopub.execute_input": "2021-12-20T06:21:17.224153Z",
     "iopub.status.busy": "2021-12-20T06:21:17.223104Z",
     "iopub.status.idle": "2021-12-20T06:21:17.412884Z",
     "shell.execute_reply": "2021-12-20T06:21:17.413480Z",
     "shell.execute_reply.started": "2021-12-19T21:29:45.352335Z"
    },
    "papermill": {
     "duration": 0.251813,
     "end_time": "2021-12-20T06:21:17.413651",
     "exception": false,
     "start_time": "2021-12-20T06:21:17.161838",
     "status": "completed"
    },
    "tags": []
   },
   "outputs": [
    {
     "data": {
      "image/png": "[encoded data removed]",
      "text/plain": [
       "<Figure size 640x480 with 1 Axes>"
      ]
     },
     "metadata": {},
     "output_type": "display_data"
    }
   ],
   "source": [
    "ax = sns.countplot(x='type', data=df_train[df_train['isFraud'] == 1])\n",
    "plt.title('Fraud Distribution', fontsize=14)\n",
    "\n",
    "# Add annotations for each bar\n",
    "for p in ax.patches:\n",
    "    ax.annotate(\n",
    "        str(format(int(p.get_height()), ',d')),  # Annotate with formatted height\n",
    "        (p.get_x() + p.get_width() / 2., p.get_height()),  # Position in the center of the bar\n",
    "        ha='center', va='bottom'  # Align annotations\n",
    "    )\n",
    "\n",
    "plt.show()"
   ]
  },
  {
   "cell_type": "markdown",
   "id": "4da61f05",
   "metadata": {
    "papermill": {
     "duration": 0.055569,
     "end_time": "2021-12-20T06:21:17.524818",
     "exception": false,
     "start_time": "2021-12-20T06:21:17.469249",
     "status": "completed"
    },
    "tags": []
   },
   "source": [
    "\n",
    "We find that of the five types of transactions, fraud occurs only in two of them 'TRANSFER' where money is sent to a customer / fraudster and 'CASH_OUT' where money is sent to a merchant who pays the customer / fraudster in cash. Remarkably, the number of fraudulent TRANSFERs almost equals the number of fraudulent CASH_OUTs . "
   ]
  },
  {
   "cell_type": "markdown",
   "id": "fba0de3e",
   "metadata": {
    "papermill": {
     "duration": 0.055377,
     "end_time": "2021-12-20T06:21:17.635756",
     "exception": false,
     "start_time": "2021-12-20T06:21:17.580379",
     "status": "completed"
    },
    "tags": []
   },
   "source": [
    "### 4 - Step"
   ]
  },
  {
   "cell_type": "code",
   "execution_count": 21,
   "id": "6ac62e48",
   "metadata": {
    "execution": {
     "iopub.execute_input": "2021-12-20T06:21:17.753628Z",
     "iopub.status.busy": "2021-12-20T06:21:17.752626Z",
     "iopub.status.idle": "2021-12-20T06:21:17.791775Z",
     "shell.execute_reply": "2021-12-20T06:21:17.791178Z",
     "shell.execute_reply.started": "2021-12-19T21:29:45.55126Z"
    },
    "papermill": {
     "duration": 0.100586,
     "end_time": "2021-12-20T06:21:17.791925",
     "exception": false,
     "start_time": "2021-12-20T06:21:17.691339",
     "status": "completed"
    },
    "tags": []
   },
   "outputs": [],
   "source": [
    "fraud = df_train[df_train[\"isFraud\"] == 1]\n",
    "Notfraud = df_train[df_train[\"isFraud\"] == 0]"
   ]
  },
  {
   "cell_type": "code",
   "execution_count": 22,
   "id": "3c2aa29a",
   "metadata": {
    "execution": {
     "iopub.execute_input": "2021-12-20T06:21:17.907152Z",
     "iopub.status.busy": "2021-12-20T06:21:17.906168Z",
     "iopub.status.idle": "2021-12-20T06:21:17.917860Z",
     "shell.execute_reply": "2021-12-20T06:21:17.918435Z",
     "shell.execute_reply.started": "2021-12-19T21:29:45.595302Z"
    },
    "papermill": {
     "duration": 0.071106,
     "end_time": "2021-12-20T06:21:17.918611",
     "exception": false,
     "start_time": "2021-12-20T06:21:17.847505",
     "status": "completed"
    },
    "scrolled": true,
    "tags": []
   },
   "outputs": [],
   "source": [
    "Notfraud['transactionHour'] = Notfraud['step'] % 24\n",
    "fraud['transactionHour'] = fraud['step'] % 24"
   ]
  },
  {
   "cell_type": "markdown",
   "id": "b09c3bf4",
   "metadata": {
    "papermill": {
     "duration": 0.056293,
     "end_time": "2021-12-20T06:21:18.030633",
     "exception": false,
     "start_time": "2021-12-20T06:21:17.974340",
     "status": "completed"
    },
    "tags": []
   },
   "source": [
    "# Distribution of not fraud"
   ]
  },
  {
   "cell_type": "code",
   "execution_count": 23,
   "id": "fccda33c",
   "metadata": {
    "execution": {
     "iopub.execute_input": "2021-12-20T06:21:18.146113Z",
     "iopub.status.busy": "2021-12-20T06:21:18.145111Z",
     "iopub.status.idle": "2021-12-20T06:21:18.565025Z",
     "shell.execute_reply": "2021-12-20T06:21:18.565614Z",
     "shell.execute_reply.started": "2021-12-19T21:29:45.608073Z"
    },
    "papermill": {
     "duration": 0.479376,
     "end_time": "2021-12-20T06:21:18.565790",
     "exception": false,
     "start_time": "2021-12-20T06:21:18.086414",
     "status": "completed"
    },
    "tags": []
   },
   "outputs": [
    {
     "data": {
      "image/png": "[encoded data removed]",
      "text/plain": [
       "<Figure size 640x480 with 1 Axes>"
      ]
     },
     "metadata": {},
     "output_type": "display_data"
    }
   ],
   "source": [
    "sns.histplot(data = Notfraud\n",
    "            ,x = 'transactionHour'\n",
    "            ,bins=50\n",
    "            );"
   ]
  },
  {
   "cell_type": "markdown",
   "id": "5308eea9",
   "metadata": {
    "papermill": {
     "duration": 0.055727,
     "end_time": "2021-12-20T06:21:18.677783",
     "exception": false,
     "start_time": "2021-12-20T06:21:18.622056",
     "status": "completed"
    },
    "tags": []
   },
   "source": [
    "# Distribution of fraud"
   ]
  },
  {
   "cell_type": "code",
   "execution_count": 24,
   "id": "71075cde",
   "metadata": {
    "execution": {
     "iopub.execute_input": "2021-12-20T06:21:18.794421Z",
     "iopub.status.busy": "2021-12-20T06:21:18.793403Z",
     "iopub.status.idle": "2021-12-20T06:21:19.226083Z",
     "shell.execute_reply": "2021-12-20T06:21:19.226632Z",
     "shell.execute_reply.started": "2021-12-19T21:29:46.055604Z"
    },
    "papermill": {
     "duration": 0.492993,
     "end_time": "2021-12-20T06:21:19.226870",
     "exception": false,
     "start_time": "2021-12-20T06:21:18.733877",
     "status": "completed"
    },
    "tags": []
   },
   "outputs": [
    {
     "data": {
      "image/png": "[encoded data removed]",
      "text/plain": [
       "<Figure size 640x480 with 1 Axes>"
      ]
     },
     "metadata": {},
     "output_type": "display_data"
    }
   ],
   "source": [
    "df_train['transactionHour'] = df_train['step'] % 24\n",
    "frauds_hour = pd.concat([df_train.groupby(\"transactionHour\")[\"isFraud\"].sum(),df_train.groupby(\"transactionHour\")[\"isFraud\"].count()],axis=1)\n",
    "frauds_hour.columns = [\"Frauds\",\"Transactions\"]\n",
    "frauds_hour[\"fraud_rate\"] = frauds_hour.Frauds/frauds_hour.Transactions\n",
    "sns.barplot(x=frauds_hour.index,y=frauds_hour.fraud_rate)\n",
    "plt.show()"
   ]
  },
  {
   "cell_type": "markdown",
   "id": "30c79278",
   "metadata": {
    "papermill": {
     "duration": 0.057616,
     "end_time": "2021-12-20T06:21:19.342852",
     "exception": false,
     "start_time": "2021-12-20T06:21:19.285236",
     "status": "completed"
    },
    "tags": []
   },
   "source": [
    "Another analysis that can be interesting is at which hour of a day, the fraud attacks generally happen. From the step variable, we can get the hour of day. The below plot shows the frauds at different hours of day. It tells that frauds happen during sleeping hours the most. Close to 20% of transactions that happen during 4 AM and 5 AM are fraud transactions."
   ]
  },
  {
   "cell_type": "code",
   "execution_count": 25,
   "id": "14dd9404",
   "metadata": {
    "execution": {
     "iopub.execute_input": "2021-12-20T06:21:19.461539Z",
     "iopub.status.busy": "2021-12-20T06:21:19.460885Z",
     "iopub.status.idle": "2021-12-20T06:21:19.472651Z",
     "shell.execute_reply": "2021-12-20T06:21:19.473151Z",
     "shell.execute_reply.started": "2021-12-19T21:29:46.6288Z"
    },
    "papermill": {
     "duration": 0.072673,
     "end_time": "2021-12-20T06:21:19.473351",
     "exception": false,
     "start_time": "2021-12-20T06:21:19.400678",
     "status": "completed"
    },
    "tags": []
   },
   "outputs": [],
   "source": [
    "# converting into object type\n",
    "df_train['transactionHour'] = df_train['transactionHour'].astype('object')"
   ]
  },
  {
   "cell_type": "code",
   "execution_count": 26,
   "id": "befe33b7",
   "metadata": {
    "execution": {
     "iopub.execute_input": "2021-12-20T06:21:19.602461Z",
     "iopub.status.busy": "2021-12-20T06:21:19.601505Z",
     "iopub.status.idle": "2021-12-20T06:21:20.331259Z",
     "shell.execute_reply": "2021-12-20T06:21:20.331825Z",
     "shell.execute_reply.started": "2021-12-19T21:29:46.642772Z"
    },
    "papermill": {
     "duration": 0.801115,
     "end_time": "2021-12-20T06:21:20.332019",
     "exception": false,
     "start_time": "2021-12-20T06:21:19.530904",
     "status": "completed"
    },
    "scrolled": true,
    "tags": []
   },
   "outputs": [
    {
     "data": {
      "image/png": "[encoded data removed]",
      "text/plain": [
       "<Figure size 1200x300 with 1 Axes>"
      ]
     },
     "metadata": {},
     "output_type": "display_data"
    }
   ],
   "source": [
    "# avg. transaction amount at each hour for each transaction type\n",
    "plt.figure(figsize=(12,3))\n",
    "sns.lineplot(data=df_train.groupby(['transactionHour','type']).agg({'amount' : 'mean'}).round(2).reset_index(),\n",
    "             x='transactionHour',\n",
    "             y='amount',\n",
    "             hue='type')\n",
    "plt.xlabel('Transaction hour', fontsize=8, fontweight='bold')\n",
    "plt.xticks(range(24), range(24),fontsize=8, fontweight='bold', rotation=0)\n",
    "plt.ylabel('Average transaction amount (millions)', fontsize=8, fontweight='bold')\n",
    "plt.yticks(fontsize=8, fontweight='bold')\n",
    "plt.title('Average transaction amount at each hour', fontsize=8, fontweight='bold')\n",
    "plt.show()\n"
   ]
  },
  {
   "cell_type": "code",
   "execution_count": 27,
   "id": "f79289b4",
   "metadata": {
    "execution": {
     "iopub.execute_input": "2021-12-20T06:21:20.469031Z",
     "iopub.status.busy": "2021-12-20T06:21:20.468279Z",
     "iopub.status.idle": "2021-12-20T06:21:25.563221Z",
     "shell.execute_reply": "2021-12-20T06:21:25.562456Z",
     "shell.execute_reply.started": "2021-12-19T21:29:47.206689Z"
    },
    "papermill": {
     "duration": 5.165952,
     "end_time": "2021-12-20T06:21:25.563373",
     "exception": false,
     "start_time": "2021-12-20T06:21:20.397421",
     "status": "completed"
    },
    "tags": []
   },
   "outputs": [
    {
     "data": {
      "text/plain": [
       "Text(0.5, 1.0, 'Amount vs Balance')"
      ]
     },
     "execution_count": 27,
     "metadata": {},
     "output_type": "execute_result"
    },
    {
     "data": {
      "image/png": "[encoded data removed]",
      "text/plain": [
       "<Figure size 800x800 with 1 Axes>"
      ]
     },
     "metadata": {},
     "output_type": "display_data"
    }
   ],
   "source": [
    "newscatplot=df_train[df_train['isFraud']==1]\n",
    "plt.figure(figsize=(8,8))\n",
    "ax = plt.gca()\n",
    "ax.set_ylim(0,2*1e7)\n",
    "ax.set_xlim(0,2*1e7)\n",
    "df_train.plot.scatter(x='oldbalanceOrg',y='amount', ax=ax,edgecolors='red',s=100,alpha=0.1,label=\"Legit transaction\")\n",
    "newscatplot.plot.scatter(x='oldbalanceOrg',y='amount', color='#FCD735', ax=ax,edgecolors='red',s=100,alpha=0.1,label=\"Fraud transcation\")\n",
    "plt.title('Amount vs Balance',fontsize=25,color='#E43A36')\n"
   ]
  },
  {
   "cell_type": "markdown",
   "id": "13795c87",
   "metadata": {
    "papermill": {
     "duration": 0.062237,
     "end_time": "2021-12-20T06:21:25.687982",
     "exception": false,
     "start_time": "2021-12-20T06:21:25.625745",
     "status": "completed"
    },
    "tags": []
   },
   "source": [
    "The above figure represents the illegal money and how to increase it until it reaches the permissible limit of transfers per day and then stops (example) The permissible limit of transfers per day is $50 at this amount, the customer cannot transfer more than this balance until 24 hours are completed"
   ]
  },
  {
   "cell_type": "markdown",
   "id": "3f2f9d3c",
   "metadata": {
    "papermill": {
     "duration": 0.061358,
     "end_time": "2021-12-20T06:21:25.811323",
     "exception": false,
     "start_time": "2021-12-20T06:21:25.749965",
     "status": "completed"
    },
    "tags": []
   },
   "source": [
    "# Feature engineering "
   ]
  },
  {
   "cell_type": "code",
   "execution_count": 28,
   "id": "7bda67a4",
   "metadata": {
    "execution": {
     "iopub.execute_input": "2021-12-20T06:21:26.033823Z",
     "iopub.status.busy": "2021-12-20T06:21:26.033116Z",
     "iopub.status.idle": "2021-12-20T06:21:26.057621Z",
     "shell.execute_reply": "2021-12-20T06:21:26.056979Z",
     "shell.execute_reply.started": "2021-12-19T21:29:52.36963Z"
    },
    "papermill": {
     "duration": 0.184576,
     "end_time": "2021-12-20T06:21:26.057765",
     "exception": false,
     "start_time": "2021-12-20T06:21:25.873189",
     "status": "completed"
    },
    "tags": []
   },
   "outputs": [],
   "source": [
    "df_train = df_train.loc[(df_train.type == 'TRANSFER') | (df_train.type == 'CASH_OUT')]"
   ]
  },
  {
   "cell_type": "code",
   "execution_count": 29,
   "id": "a480b546",
   "metadata": {
    "execution": {
     "iopub.execute_input": "2021-12-20T06:21:26.187849Z",
     "iopub.status.busy": "2021-12-20T06:21:26.187162Z",
     "iopub.status.idle": "2021-12-20T06:21:26.193552Z",
     "shell.execute_reply": "2021-12-20T06:21:26.194133Z",
     "shell.execute_reply.started": "2021-12-19T21:29:52.489843Z"
    },
    "papermill": {
     "duration": 0.07468,
     "end_time": "2021-12-20T06:21:26.194316",
     "exception": false,
     "start_time": "2021-12-20T06:21:26.119636",
     "status": "completed"
    },
    "scrolled": true,
    "tags": []
   },
   "outputs": [],
   "source": [
    "df_train[\"errorbalanceOrg\"] = df_train.newbalanceOrig + df_train.amount - df_train.oldbalanceOrg\n",
    "df_train[\"errorbalanceDest\"] = df_train.oldbalanceDest + df_train.amount - df_train.newbalanceDest"
   ]
  },
  {
   "cell_type": "markdown",
   "id": "c0852c48",
   "metadata": {
    "papermill": {
     "duration": 0.063872,
     "end_time": "2021-12-20T06:21:26.320538",
     "exception": false,
     "start_time": "2021-12-20T06:21:26.256666",
     "status": "completed"
    },
    "tags": []
   },
   "source": [
    "As seen earlier, 0 values of oldbalanceOrg,newbalanceOrig,oldbalanceDest,newbalanceDest when amount is not 0 have a good chance of fraudulent transaction, we will create new freatures combining (oldbalanceOrg,newbalanceOrig,amount) and (oldbalanceDest,newbalanceDest,amount)\n"
   ]
  },
  {
   "cell_type": "markdown",
   "id": "9cc0c47d",
   "metadata": {
    "papermill": {
     "duration": 0.061805,
     "end_time": "2021-12-20T06:21:26.444143",
     "exception": false,
     "start_time": "2021-12-20T06:21:26.382338",
     "status": "completed"
    },
    "tags": []
   },
   "source": [
    "# Base line"
   ]
  },
  {
   "cell_type": "code",
   "execution_count": 30,
   "id": "b08f25e9",
   "metadata": {
    "execution": {
     "iopub.execute_input": "2021-12-20T06:21:26.572241Z",
     "iopub.status.busy": "2021-12-20T06:21:26.571543Z",
     "iopub.status.idle": "2021-12-20T06:21:26.618420Z",
     "shell.execute_reply": "2021-12-20T06:21:26.618959Z",
     "shell.execute_reply.started": "2021-12-19T21:29:52.501545Z"
    },
    "papermill": {
     "duration": 0.112012,
     "end_time": "2021-12-20T06:21:26.619126",
     "exception": false,
     "start_time": "2021-12-20T06:21:26.507114",
     "status": "completed"
    },
    "tags": []
   },
   "outputs": [],
   "source": [
    "df_train = pd.concat([df_train, pd.get_dummies(df_train['type'], prefix='type')],axis=1) "
   ]
  },
  {
   "cell_type": "code",
   "execution_count": 31,
   "id": "9f13b9bc",
   "metadata": {
    "execution": {
     "iopub.execute_input": "2021-12-20T06:21:26.747703Z",
     "iopub.status.busy": "2021-12-20T06:21:26.746653Z",
     "iopub.status.idle": "2021-12-20T06:21:26.803161Z",
     "shell.execute_reply": "2021-12-20T06:21:26.803752Z",
     "shell.execute_reply.started": "2021-12-19T21:29:52.558286Z"
    },
    "papermill": {
     "duration": 0.122148,
     "end_time": "2021-12-20T06:21:26.803921",
     "exception": false,
     "start_time": "2021-12-20T06:21:26.681773",
     "status": "completed"
    },
    "tags": []
   },
   "outputs": [],
   "source": [
    "df_train = df_train.drop(['nameOrig', 'nameDest', 'isFlaggedFraud',\"type\",\"transactionHour\"], axis = 1)"
   ]
  },
  {
   "cell_type": "code",
   "execution_count": 32,
   "id": "75f9dc0f",
   "metadata": {
    "execution": {
     "iopub.execute_input": "2021-12-20T06:21:26.932337Z",
     "iopub.status.busy": "2021-12-20T06:21:26.931632Z",
     "iopub.status.idle": "2021-12-20T06:21:26.939129Z",
     "shell.execute_reply": "2021-12-20T06:21:26.938471Z",
     "shell.execute_reply.started": "2021-12-19T21:29:52.617846Z"
    },
    "papermill": {
     "duration": 0.073501,
     "end_time": "2021-12-20T06:21:26.939319",
     "exception": false,
     "start_time": "2021-12-20T06:21:26.865818",
     "status": "completed"
    },
    "tags": []
   },
   "outputs": [],
   "source": [
    "y_train = df_train[\"isFraud\"]\n",
    "X_train = df_train.drop(['isFraud'],axis=1)"
   ]
  },
  {
   "cell_type": "code",
   "execution_count": 33,
   "id": "97f94ff4",
   "metadata": {
    "execution": {
     "iopub.execute_input": "2021-12-20T06:21:27.071066Z",
     "iopub.status.busy": "2021-12-20T06:21:27.067735Z",
     "iopub.status.idle": "2021-12-20T06:21:27.078808Z",
     "shell.execute_reply": "2021-12-20T06:21:27.078010Z",
     "shell.execute_reply.started": "2021-12-19T21:29:52.628473Z"
    },
    "papermill": {
     "duration": 0.076919,
     "end_time": "2021-12-20T06:21:27.078975",
     "exception": false,
     "start_time": "2021-12-20T06:21:27.002056",
     "status": "completed"
    },
    "scrolled": true,
    "tags": []
   },
   "outputs": [
    {
     "name": "stdout",
     "output_type": "stream",
     "text": [
      "<class 'pandas.core.frame.DataFrame'>\n",
      "RangeIndex: 6362620 entries, 0 to 6362619\n",
      "Data columns (total 11 columns):\n",
      " #   Column          Dtype  \n",
      "---  ------          -----  \n",
      " 0   step            int64  \n",
      " 1   type            object \n",
      " 2   amount          float64\n",
      " 3   nameOrig        object \n",
      " 4   oldbalanceOrg   float64\n",
      " 5   newbalanceOrig  float64\n",
      " 6   nameDest        object \n",
      " 7   oldbalanceDest  float64\n",
      " 8   newbalanceDest  float64\n",
      " 9   isFraud         int64  \n",
      " 10  isFlaggedFraud  int64  \n",
      "dtypes: float64(5), int64(3), object(3)\n",
      "memory usage: 534.0+ MB\n"
     ]
    }
   ],
   "source": [
    "df.info()"
   ]
  },
  {
   "cell_type": "markdown",
   "id": "3fc154fd",
   "metadata": {
    "papermill": {
     "duration": 0.0632,
     "end_time": "2021-12-20T06:21:27.204724",
     "exception": false,
     "start_time": "2021-12-20T06:21:27.141524",
     "status": "completed"
    },
    "tags": []
   },
   "source": [
    "# Val"
   ]
  },
  {
   "cell_type": "code",
   "execution_count": 34,
   "id": "db879f06",
   "metadata": {
    "execution": {
     "iopub.execute_input": "2021-12-20T06:21:27.370953Z",
     "iopub.status.busy": "2021-12-20T06:21:27.370248Z",
     "iopub.status.idle": "2021-12-20T06:21:27.422153Z",
     "shell.execute_reply": "2021-12-20T06:21:27.421563Z",
     "shell.execute_reply.started": "2021-12-19T21:29:52.649491Z"
    },
    "papermill": {
     "duration": 0.155168,
     "end_time": "2021-12-20T06:21:27.422313",
     "exception": false,
     "start_time": "2021-12-20T06:21:27.267145",
     "status": "completed"
    },
    "tags": []
   },
   "outputs": [],
   "source": [
    "df_val = df_val.loc[(df_val.type == 'TRANSFER') | (df_val.type == 'CASH_OUT')]\n",
    "\n",
    "df_val[\"errorbalanceOrg\"] = df_val.newbalanceOrig + df_val.amount - df_val.oldbalanceOrg\n",
    "df_val[\"errorbalanceDest\"] = df_val.oldbalanceDest + df_val.amount - df_val.newbalanceDest\n",
    "\n",
    "df_val = pd.concat([df_val, pd.get_dummies(df_val['type'], prefix='type')],axis=1) \n",
    "\n",
    "df_val = df_val.drop(['nameOrig', 'nameDest', 'isFlaggedFraud',\"type\"], axis = 1)"
   ]
  },
  {
   "cell_type": "code",
   "execution_count": 35,
   "id": "5b2aff2c",
   "metadata": {
    "execution": {
     "iopub.execute_input": "2021-12-20T06:21:27.554604Z",
     "iopub.status.busy": "2021-12-20T06:21:27.553902Z",
     "iopub.status.idle": "2021-12-20T06:21:27.555606Z",
     "shell.execute_reply": "2021-12-20T06:21:27.556174Z",
     "shell.execute_reply.started": "2021-12-19T21:29:52.745342Z"
    },
    "papermill": {
     "duration": 0.071112,
     "end_time": "2021-12-20T06:21:27.556359",
     "exception": false,
     "start_time": "2021-12-20T06:21:27.485247",
     "status": "completed"
    },
    "tags": []
   },
   "outputs": [],
   "source": [
    "y_val = df_val[\"isFraud\"]\n",
    "X_val= df_val.drop(['isFraud'],axis=1)"
   ]
  },
  {
   "cell_type": "markdown",
   "id": "3189d837",
   "metadata": {
    "papermill": {
     "duration": 0.061938,
     "end_time": "2021-12-20T06:21:27.680937",
     "exception": false,
     "start_time": "2021-12-20T06:21:27.618999",
     "status": "completed"
    },
    "tags": []
   },
   "source": [
    "# Random Forest Classifier"
   ]
  },
  {
   "cell_type": "markdown",
   "id": "da55ff46",
   "metadata": {
    "papermill": {
     "duration": 0.061992,
     "end_time": "2021-12-20T06:21:28.072918",
     "exception": false,
     "start_time": "2021-12-20T06:21:28.010926",
     "status": "completed"
    },
    "tags": []
   },
   "source": [
    "# Train"
   ]
  },
  {
   "cell_type": "code",
   "execution_count": 36,
   "id": "e2265d2d",
   "metadata": {
    "execution": {
     "iopub.execute_input": "2021-12-20T06:21:28.201980Z",
     "iopub.status.busy": "2021-12-20T06:21:28.201259Z",
     "iopub.status.idle": "2021-12-20T06:21:45.518544Z",
     "shell.execute_reply": "2021-12-20T06:21:45.517923Z",
     "shell.execute_reply.started": "2021-12-19T21:29:52.784855Z"
    },
    "papermill": {
     "duration": 17.382575,
     "end_time": "2021-12-20T06:21:45.518698",
     "exception": false,
     "start_time": "2021-12-20T06:21:28.136123",
     "status": "completed"
    },
    "scrolled": true,
    "tags": []
   },
   "outputs": [
    {
     "name": "stdout",
     "output_type": "stream",
     "text": [
      "              precision    recall  f1-score   support\n",
      "\n",
      "           0       1.00      1.00      1.00    129751\n",
      "           1       1.00      1.00      1.00       387\n",
      "\n",
      "    accuracy                           1.00    130138\n",
      "   macro avg       1.00      1.00      1.00    130138\n",
      "weighted avg       1.00      1.00      1.00    130138\n",
      "\n",
      "[[129751      0]\n",
      " [     0    387]]\n"
     ]
    }
   ],
   "source": [
    "RF = RandomForestClassifier(random_state=1)\n",
    "\n",
    "RF.fit(X_train, y_train)\n",
    "\n",
    "y_predict = RF.predict(X_train)\n",
    "\n",
    "# evaluate the model\n",
    "print(classification_report(y_train, y_predict))\n",
    "print(confusion_matrix(y_train, y_predict))"
   ]
  },
  {
   "cell_type": "markdown",
   "id": "bffe18e6",
   "metadata": {
    "papermill": {
     "duration": 0.06544,
     "end_time": "2021-12-20T06:21:45.651500",
     "exception": false,
     "start_time": "2021-12-20T06:21:45.586060",
     "status": "completed"
    },
    "tags": []
   },
   "source": [
    "# Val"
   ]
  },
  {
   "cell_type": "code",
   "execution_count": 37,
   "id": "d3f9c6e0",
   "metadata": {
    "execution": {
     "iopub.execute_input": "2021-12-20T06:21:45.781836Z",
     "iopub.status.busy": "2021-12-20T06:21:45.781175Z",
     "iopub.status.idle": "2021-12-20T06:22:02.397231Z",
     "shell.execute_reply": "2021-12-20T06:22:02.396703Z",
     "shell.execute_reply.started": "2021-12-19T21:30:10.537813Z"
    },
    "papermill": {
     "duration": 16.681836,
     "end_time": "2021-12-20T06:22:02.397373",
     "exception": false,
     "start_time": "2021-12-20T06:21:45.715537",
     "status": "completed"
    },
    "tags": []
   },
   "outputs": [
    {
     "name": "stdout",
     "output_type": "stream",
     "text": [
      "              precision    recall  f1-score   support\n",
      "\n",
      "           0       1.00      1.00      1.00     43179\n",
      "           1       1.00      1.00      1.00       129\n",
      "\n",
      "    accuracy                           1.00     43308\n",
      "   macro avg       1.00      1.00      1.00     43308\n",
      "weighted avg       1.00      1.00      1.00     43308\n",
      "\n",
      "[[43179     0]\n",
      " [    0   129]]\n"
     ]
    }
   ],
   "source": [
    "RF = RandomForestClassifier(random_state=1)\n",
    "\n",
    "RF.fit(X_train, y_train)\n",
    "\n",
    "y_predict = RF.predict(X_val)\n",
    "\n",
    "# evaluate the model\n",
    "print(classification_report(y_val, y_predict))\n",
    "print(confusion_matrix(y_val, y_predict))"
   ]
  },
  {
   "cell_type": "markdown",
   "id": "7410897f",
   "metadata": {
    "papermill": {
     "duration": 0.063101,
     "end_time": "2021-12-20T06:22:02.523807",
     "exception": false,
     "start_time": "2021-12-20T06:22:02.460706",
     "status": "completed"
    },
    "tags": []
   },
   "source": [
    "# Test"
   ]
  },
  {
   "cell_type": "code",
   "execution_count": 38,
   "id": "1c3c36f6",
   "metadata": {
    "execution": {
     "iopub.execute_input": "2021-12-20T06:22:02.688732Z",
     "iopub.status.busy": "2021-12-20T06:22:02.671772Z",
     "iopub.status.idle": "2021-12-20T06:22:02.740348Z",
     "shell.execute_reply": "2021-12-20T06:22:02.739741Z",
     "shell.execute_reply.started": "2021-12-19T21:30:27.703794Z"
    },
    "papermill": {
     "duration": 0.153197,
     "end_time": "2021-12-20T06:22:02.740494",
     "exception": false,
     "start_time": "2021-12-20T06:22:02.587297",
     "status": "completed"
    },
    "tags": []
   },
   "outputs": [],
   "source": [
    "df_test = df_test.loc[(df_test.type == 'TRANSFER') | (df_test.type == 'CASH_OUT')]\n",
    "\n",
    "df_test[\"errorbalanceOrg\"] = df_test.newbalanceOrig + df_test.amount - df_test.oldbalanceOrg\n",
    "df_test[\"errorbalanceDest\"] = df_test.oldbalanceDest + df_test.amount - df_test.newbalanceDest\n",
    "\n",
    "df_test = pd.concat([df_test, pd.get_dummies(df_test['type'], prefix='type')],axis=1) \n",
    "\n",
    "df_test = df_test.drop(['nameOrig', 'nameDest', 'isFlaggedFraud',\"type\"], axis = 1)"
   ]
  },
  {
   "cell_type": "code",
   "execution_count": 39,
   "id": "9148c14d",
   "metadata": {
    "execution": {
     "iopub.execute_input": "2021-12-20T06:22:02.872926Z",
     "iopub.status.busy": "2021-12-20T06:22:02.872246Z",
     "iopub.status.idle": "2021-12-20T06:22:02.874809Z",
     "shell.execute_reply": "2021-12-20T06:22:02.875295Z",
     "shell.execute_reply.started": "2021-12-19T21:30:27.798534Z"
    },
    "papermill": {
     "duration": 0.071995,
     "end_time": "2021-12-20T06:22:02.875467",
     "exception": false,
     "start_time": "2021-12-20T06:22:02.803472",
     "status": "completed"
    },
    "tags": []
   },
   "outputs": [],
   "source": [
    "y_test = df_test[\"isFraud\"]\n",
    "X_test = df_test.drop(['isFraud'],axis=1)"
   ]
  },
  {
   "cell_type": "code",
   "execution_count": 40,
   "id": "4430390b",
   "metadata": {
    "execution": {
     "iopub.execute_input": "2021-12-20T06:22:03.010650Z",
     "iopub.status.busy": "2021-12-20T06:22:03.009938Z",
     "iopub.status.idle": "2021-12-20T06:22:19.461417Z",
     "shell.execute_reply": "2021-12-20T06:22:19.460877Z",
     "shell.execute_reply.started": "2021-12-19T21:30:27.80797Z"
    },
    "papermill": {
     "duration": 16.522153,
     "end_time": "2021-12-20T06:22:19.461558",
     "exception": false,
     "start_time": "2021-12-20T06:22:02.939405",
     "status": "completed"
    },
    "tags": []
   },
   "outputs": [
    {
     "name": "stdout",
     "output_type": "stream",
     "text": [
      "              precision    recall  f1-score   support\n",
      "\n",
      "           0       1.00      1.00      1.00     43235\n",
      "           1       1.00      0.99      1.00       129\n",
      "\n",
      "    accuracy                           1.00     43364\n",
      "   macro avg       1.00      1.00      1.00     43364\n",
      "weighted avg       1.00      1.00      1.00     43364\n",
      "\n",
      "[[43235     0]\n",
      " [    1   128]]\n"
     ]
    }
   ],
   "source": [
    "RF = RandomForestClassifier(random_state=1)\n",
    "\n",
    "RF.fit(X_train, y_train)\n",
    "\n",
    "y_predict = RF.predict(X_test)\n",
    "\n",
    "# evaluate the model\n",
    "print(classification_report(y_test, y_predict))\n",
    "print(confusion_matrix(y_test, y_predict))"
   ]
  },
  {
   "cell_type": "markdown",
   "id": "60ae1b53",
   "metadata": {
    "papermill": {
     "duration": 0.062887,
     "end_time": "2021-12-20T06:22:19.588334",
     "exception": false,
     "start_time": "2021-12-20T06:22:19.525447",
     "status": "completed"
    },
    "tags": []
   },
   "source": [
    "We can see that accuracy in train and test is 100% and this is because the data is manufactured."
   ]
  }
 ],
 "metadata": {
  "kernelspec": {
   "display_name": "Python 3 (ipykernel)",
   "language": "python",
   "name": "python3"
  },
  "language_info": {
   "codemirror_mode": {
    "name": "ipython",
    "version": 3
   },
   "file_extension": ".py",
   "mimetype": "text/x-python",
   "name": "python",
   "nbconvert_exporter": "python",
   "pygments_lexer": "ipython3",
   "version": "3.11.7"
  },
  "papermill": {
   "default_parameters": {},
   "duration": 112.824048,
   "end_time": "2021-12-20T06:22:21.165425",
   "environment_variables": {},
   "exception": null,
   "input_path": "__notebook__.ipynb",
   "output_path": "__notebook__.ipynb",
   "parameters": {},
   "start_time": "2021-12-20T06:20:28.341377",
   "version": "2.3.3"
  }
 },
 "nbformat": 4,
 "nbformat_minor": 5
}
